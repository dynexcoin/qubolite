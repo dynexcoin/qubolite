{
 "cells": [
  {
   "cell_type": "markdown",
   "id": "076bcce8-e2c1-4273-bcbf-c8db53f540b4",
   "metadata": {},
   "source": [
    "# Qubolite on Dynex Example"
   ]
  },
  {
   "cell_type": "code",
   "execution_count": 3,
   "id": "7c865493-bedb-41ca-a778-469ceef60888",
   "metadata": {},
   "outputs": [],
   "source": [
    "import dynex\n",
    "from qubolite import qubo\n",
    "from qubolite.solving import brute_force\n",
    "import numpy as np"
   ]
  },
  {
   "cell_type": "code",
   "execution_count": 5,
   "id": "454e6fe3-df90-4101-86b8-6a96430f9a8e",
   "metadata": {},
   "outputs": [],
   "source": [
    "arr = np.triu(np.random.random((8, 8)))\n",
    "Q = qubo(arr)\n",
    "Q2 = qubo.random(12, distr='uniform')"
   ]
  },
  {
   "cell_type": "markdown",
   "id": "7f215eaf-7f34-49c2-a4f4-8cc571220bf0",
   "metadata": {},
   "source": [
    "## Find solution with Brute Force:"
   ]
  },
  {
   "cell_type": "code",
   "execution_count": 8,
   "id": "f2229583-c7c9-4c21-9a26-8aee259ed905",
   "metadata": {},
   "outputs": [
    {
     "name": "stdout",
     "output_type": "stream",
     "text": [
      "[1. 0. 1. 0. 0. 0. 0. 1. 1. 1. 1. 0.]\n",
      "-4.203565619620406\n"
     ]
    }
   ],
   "source": [
    "x_min, value = brute_force(Q2)\n",
    "print(x_min)\n",
    "print(value)"
   ]
  },
  {
   "cell_type": "markdown",
   "id": "f8099905-4419-4f9f-b1a7-99517653d42a",
   "metadata": {},
   "source": [
    "## Find solution with Dynex:"
   ]
  },
  {
   "cell_type": "code",
   "execution_count": 10,
   "id": "34f5a2e1-8edf-4273-8a4a-5fb7dff715a3",
   "metadata": {},
   "outputs": [
    {
     "name": "stdout",
     "output_type": "stream",
     "text": [
      "[DYNEX] PRECISION SET TO 1e-05\n",
      "[DYNEX] SAMPLER INITIALISED\n",
      "[DYNEX|TESTNET] *** WAITING FOR READS ***\n",
      "╭────────────┬─────────────┬───────────┬───────────────────────────┬─────────┬─────────┬────────────────╮\n",
      "│   DYNEXJOB │   BLOCK FEE │ ELAPSED   │ WORKERS READ              │ CHIPS   │ STEPS   │ GROUND STATE   │\n",
      "├────────────┼─────────────┼───────────┼───────────────────────────┼─────────┼─────────┼────────────────┤\n",
      "│         -1 │           0 │           │ *** WAITING FOR READS *** │         │         │                │\n",
      "╰────────────┴─────────────┴───────────┴───────────────────────────┴─────────┴─────────┴────────────────╯\n",
      "\n",
      "[DYNEX] FINISHED READ AFTER 0.00 SECONDS\n",
      "[DYNEX] SAMPLESET READY\n",
      "   0  1  2  3  4  5  6  7  8  9 10 11    energy num_oc.\n",
      "0  1  0  1  0  0  0  0  1  1  1  1  0 -4.203566       1\n",
      "['BINARY', 1 rows, 1 samples, 12 variables]\n"
     ]
    }
   ],
   "source": [
    "sampleset = dynex.sample_qubo(Q2.m, mainnet=False, num_reads=1024, annealing_time=200, debugging=False)\n",
    "print(sampleset)"
   ]
  },
  {
   "cell_type": "code",
   "execution_count": null,
   "id": "ac8fbe87-f567-4874-8208-8e2bf7bcdb7d",
   "metadata": {},
   "outputs": [],
   "source": []
  }
 ],
 "metadata": {
  "kernelspec": {
   "display_name": "Python 3 (ipykernel)",
   "language": "python",
   "name": "python3"
  },
  "language_info": {
   "codemirror_mode": {
    "name": "ipython",
    "version": 3
   },
   "file_extension": ".py",
   "mimetype": "text/x-python",
   "name": "python",
   "nbconvert_exporter": "python",
   "pygments_lexer": "ipython3",
   "version": "3.10.12"
  }
 },
 "nbformat": 4,
 "nbformat_minor": 5
}
