{
 "cells": [
  {
   "cell_type": "markdown",
   "id": "1dbba16f-513b-4b25-bfab-9499fa875b38",
   "metadata": {},
   "source": [
    "# Qubolite on Dynex Example: Clustering of a dataset"
   ]
  },
  {
   "cell_type": "code",
   "execution_count": 2,
   "id": "918663d7-d9e8-48ca-9cdf-d7bb82d7f0d8",
   "metadata": {},
   "outputs": [],
   "source": [
    "import dynex\n",
    "from sklearn.datasets import make_blobs\n",
    "from qubolite.embedding import Kernel2MeansClustering"
   ]
  },
  {
   "cell_type": "markdown",
   "id": "ae8dc751-fca5-400b-bd2e-77401bcab53d",
   "metadata": {},
   "source": [
    "## Generate a random dataset:"
   ]
  },
  {
   "cell_type": "code",
   "execution_count": 3,
   "id": "739d211d-4b8e-4eea-ae46-1859cd075e11",
   "metadata": {},
   "outputs": [],
   "source": [
    "X, y = make_blobs(n_samples=30, centers=2, random_state=42)"
   ]
  },
  {
   "cell_type": "markdown",
   "id": "b93b5f72-01b0-4f55-94f1-2e30febc66e6",
   "metadata": {},
   "source": [
    "## Create Qubo with Qubolite Kernel \"Kernel2MeansClustering\":"
   ]
  },
  {
   "cell_type": "code",
   "execution_count": 4,
   "id": "7d543bb1-1262-466f-bc1c-845d1b7406b6",
   "metadata": {},
   "outputs": [],
   "source": [
    "Q = Kernel2MeansClustering(X).qubo"
   ]
  },
  {
   "cell_type": "markdown",
   "id": "60a3b245-1ea5-490c-8017-b66a0c1e677c",
   "metadata": {},
   "source": [
    "## Compute on Dynex:"
   ]
  },
  {
   "cell_type": "code",
   "execution_count": 6,
   "id": "5e67b3dc-3e41-455c-b9ae-ea62a4d13db0",
   "metadata": {},
   "outputs": [
    {
     "name": "stdout",
     "output_type": "stream",
     "text": [
      "[DYNEX] PRECISION SET TO 0.001\n",
      "[DYNEX] SAMPLER INITIALISED\n",
      "[DYNEX|TESTNET] *** WAITING FOR READS ***\n",
      "╭────────────┬─────────────┬───────────┬───────────────────────────┬─────────┬─────────┬────────────────╮\n",
      "│   DYNEXJOB │   BLOCK FEE │ ELAPSED   │ WORKERS READ              │ CHIPS   │ STEPS   │ GROUND STATE   │\n",
      "├────────────┼─────────────┼───────────┼───────────────────────────┼─────────┼─────────┼────────────────┤\n",
      "│         -1 │           0 │           │ *** WAITING FOR READS *** │         │         │                │\n",
      "╰────────────┴─────────────┴───────────┴───────────────────────────┴─────────┴─────────┴────────────────╯\n",
      "\n",
      "[DYNEX] FINISHED READ AFTER 0.00 SECONDS\n",
      "[DYNEX] SAMPLESET READY\n",
      "   0  1  2  3  4  5  6  7  8  9 10 11 12 13 14 15 ... 29       energy num_oc.\n",
      "0  0  1  0  1  1  1  1  0  1  1  1  0  0  0  0  0 ...  0 -5779.668138       1\n",
      "['BINARY', 1 rows, 1 samples, 30 variables]\n"
     ]
    }
   ],
   "source": [
    "sampleset = dynex.sample_qubo(Q.m, mainnet=False, num_reads=1024, annealing_time=200, debugging=False)\n",
    "print(sampleset)"
   ]
  },
  {
   "cell_type": "markdown",
   "id": "2ad29363-8d3b-4a8b-86cc-4953712a2ffd",
   "metadata": {},
   "source": [
    "## Visualize Dataset:"
   ]
  },
  {
   "cell_type": "code",
   "execution_count": 10,
   "id": "228ab2df-5d71-4f67-aa69-c884f0fa4863",
   "metadata": {},
   "outputs": [],
   "source": [
    "%matplotlib inline\n",
    "import matplotlib.pyplot as plt\n",
    "import numpy as np"
   ]
  },
  {
   "cell_type": "code",
   "execution_count": 11,
   "id": "7f9dd8ec-819c-4156-9ec1-2c160e5a030b",
   "metadata": {},
   "outputs": [
    {
     "data": {
      "image/png": "[encoded data removed]",
      "text/plain": [
       "<Figure size 640x480 with 1 Axes>"
      ]
     },
     "metadata": {},
     "output_type": "display_data"
    }
   ],
   "source": [
    "x1,y1 = np.array(X).T\n",
    "for i in range(0,len(X)): \n",
    "    if sampleset.first.sample[i]==0:\n",
    "        plt.plot(X[i][0],X[i][1], 'o', color='blue');\n",
    "    else:\n",
    "        plt.plot(X[i][0],X[i][1], 'o', color='red');"
   ]
  },
  {
   "cell_type": "code",
   "execution_count": null,
   "id": "c838fd26-c170-4b34-bc33-bdd592ec1e8a",
   "metadata": {},
   "outputs": [],
   "source": []
  }
 ],
 "metadata": {
  "kernelspec": {
   "display_name": "Python 3 (ipykernel)",
   "language": "python",
   "name": "python3"
  },
  "language_info": {
   "codemirror_mode": {
    "name": "ipython",
    "version": 3
   },
   "file_extension": ".py",
   "mimetype": "text/x-python",
   "name": "python",
   "nbconvert_exporter": "python",
   "pygments_lexer": "ipython3",
   "version": "3.10.12"
  }
 },
 "nbformat": 4,
 "nbformat_minor": 5
}
